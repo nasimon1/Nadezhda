{
 "cells": [
  {
   "cell_type": "code",
   "execution_count": 1,
   "metadata": {
    "collapsed": true
   },
   "outputs": [],
   "source": [
    "reviews = [\"\"\"Телефон абонента: +7 916 000 00 01\n",
    "Время: 10:34\n",
    "Дата: 20.05.2017\n",
    "Оценка: 1\n",
    "Длительность разговора (мин.): 0:32\n",
    "Комментарий: Общение с сотрудником вашей техподдержки мне не понравилось. Раньше всегда отвечала девушка с приятным голосом, а сегодня какой-то мужчина. Совсем никуда не годится, примите меры!!!\"\"\",\n",
    "\"\"\"Телефон абонента: +7 916 000 00 02\n",
    "Время: 9:20\n",
    "Дата: 21.05.2017\n",
    "Оценка: 5\n",
    "Длительность разговора (мин.): 25:07\n",
    "Комментарий: С моей проблемой мне помогли, большое спасибо!\"\"\"]"
   ]
  },
  {
   "cell_type": "code",
   "execution_count": 41,
   "metadata": {
    "collapsed": false
   },
   "outputs": [
    {
     "data": {
      "text/plain": [
       "True"
      ]
     },
     "execution_count": 41,
     "metadata": {},
     "output_type": "execute_result"
    }
   ],
   "source": [
    "splitted = [reviews[h].split('\\n')[0].split(': ')[1] for h in range(len(reviews))]\n",
    "ns=reviews[0]\n",
    "s1 = ns.split('\\n')\n",
    "s2 = [s1[h].split(': ')[0] for h in range(len(s1))]\n",
    "s3 = [s1[h].split(': ')[1] for h in range(len(s1))]\n",
    "dict_new=dict(zip(s2,s3))\n",
    "ns=reviews[1]\n",
    "s1 = ns.split('\\n')\n",
    "s2 = [s1[h].split(': ')[0] for h in range(len(s1))]\n",
    "s3 = [s1[h].split(': ')[1] for h in range(len(s1))]\n",
    "dict_new1=dict(zip(s2,s3))\n",
    "dict_list=[dict_new,dict_new1]\n",
    "my_base=dict(zip(splitted,dict_list))\n",
    "my_base['+7 916 000 00 01']['Дата'] == '20.05.2017'\n"
   ]
  }
 ],
 "metadata": {
  "kernelspec": {
   "display_name": "Python 2",
   "language": "python",
   "name": "python2"
  },
  "language_info": {
   "codemirror_mode": {
    "name": "ipython",
    "version": 2
   },
   "file_extension": ".py",
   "mimetype": "text/x-python",
   "name": "python",
   "nbconvert_exporter": "python",
   "pygments_lexer": "ipython2",
   "version": "2.7.13"
  }
 },
 "nbformat": 4,
 "nbformat_minor": 2
}
